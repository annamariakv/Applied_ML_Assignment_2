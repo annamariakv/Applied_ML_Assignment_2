{
 "cells": [
  {
   "cell_type": "code",
   "execution_count": 1,
   "id": "efe10761",
   "metadata": {},
   "outputs": [
    {
     "name": "stderr",
     "output_type": "stream",
     "text": [
      "C:\\Users\\HP\\AppData\\Roaming\\Python\\Python39\\site-packages\\scipy\\__init__.py:146: UserWarning: A NumPy version >=1.16.5 and <1.23.0 is required for this version of SciPy (detected version 1.24.3\n",
      "  warnings.warn(f\"A NumPy version >={np_minversion} and <{np_maxversion}\"\n"
     ]
    }
   ],
   "source": [
    "import pandas as pd\n",
    "import numpy as np\n",
    "import matplotlib.pyplot as plt\n",
    "import nltk\n",
    "from nltk.corpus import stopwords\n",
    "from nltk.tokenize import word_tokenize\n",
    "import re\n",
    "from sklearn.model_selection import train_test_split"
   ]
  },
  {
   "cell_type": "code",
   "execution_count": 2,
   "id": "a0d545cc",
   "metadata": {},
   "outputs": [],
   "source": [
    "df = pd.read_csv(\"emails.csv\")"
   ]
  },
  {
   "cell_type": "code",
   "execution_count": 3,
   "id": "1dc5b84f",
   "metadata": {},
   "outputs": [],
   "source": [
    "df[\"text\"] = df['text'].astype(str)\n",
    "df['spam'] = df['spam'].astype(float)"
   ]
  },
  {
   "cell_type": "markdown",
   "id": "d838ce9d",
   "metadata": {},
   "source": [
    "### Preprocessing: "
   ]
  },
  {
   "cell_type": "code",
   "execution_count": 4,
   "id": "ebe1d96d",
   "metadata": {},
   "outputs": [
    {
     "name": "stderr",
     "output_type": "stream",
     "text": [
      "[nltk_data] Downloading package punkt to\n",
      "[nltk_data]     C:\\Users\\HP\\AppData\\Roaming\\nltk_data...\n",
      "[nltk_data]   Package punkt is already up-to-date!\n",
      "[nltk_data] Downloading package stopwords to\n",
      "[nltk_data]     C:\\Users\\HP\\AppData\\Roaming\\nltk_data...\n",
      "[nltk_data]   Package stopwords is already up-to-date!\n"
     ]
    }
   ],
   "source": [
    "nltk.download('punkt')\n",
    "nltk.download('stopwords')\n",
    "\n",
    "def preprocess_text(text):\n",
    "    # Convert to lowercase\n",
    "    text = text.lower()\n",
    "    # Remove special characters, numbers, and punctuation\n",
    "    text = re.sub(r'[^a-zA-Z\\s]', '', text)\n",
    "    # Tokenization\n",
    "    tokens = word_tokenize(text)\n",
    "    # Remove stop words\n",
    "    stop_words = set(stopwords.words('english'))\n",
    "    tokens = [word for word in tokens if word not in stop_words]\n",
    "    # Join the tokens back into a single string\n",
    "    preprocessed_text = ' '.join(tokens)\n",
    "\n",
    "    return preprocessed_text"
   ]
  },
  {
   "cell_type": "code",
   "execution_count": 5,
   "id": "5b97d68a",
   "metadata": {},
   "outputs": [],
   "source": [
    "df['text'] = df['text'].apply(preprocess_text)"
   ]
  },
  {
   "cell_type": "markdown",
   "id": "89231efa",
   "metadata": {},
   "source": [
    "### Splitting and saving data with random seed 42:"
   ]
  },
  {
   "cell_type": "code",
   "execution_count": 6,
   "id": "1ae673fb",
   "metadata": {},
   "outputs": [],
   "source": [
    "def split_dataframe(dataframe, random_state, test_size=0.3, validation_size=0.5):\n",
    "    # Split into training and temporary set\n",
    "    train_set, temp_set = train_test_split(dataframe, test_size=test_size, random_state=random_state)\n",
    "    \n",
    "    # Further split temporary set into test and validation sets\n",
    "    test_set, validation_set = train_test_split(temp_set, test_size=validation_size, random_state=random_state)\n",
    "\n",
    "    return train_set, test_set, validation_set    \n",
    "    "
   ]
  },
  {
   "cell_type": "code",
   "execution_count": 7,
   "id": "f06ef30f",
   "metadata": {},
   "outputs": [],
   "source": [
    "train, test, validation = split_dataframe(df, random_state = 42)"
   ]
  },
  {
   "cell_type": "code",
   "execution_count": 8,
   "id": "86f3ce65",
   "metadata": {},
   "outputs": [],
   "source": [
    "train.to_csv('train.csv', index=False)\n",
    "validation.to_csv('validation.csv', index=False)\n",
    "test.to_csv('test.csv', index=False)"
   ]
  },
  {
   "cell_type": "markdown",
   "id": "26401494",
   "metadata": {},
   "source": [
    "### Implementing DVC:"
   ]
  },
  {
   "cell_type": "code",
   "execution_count": 9,
   "id": "778040fa",
   "metadata": {},
   "outputs": [
    {
     "name": "stdout",
     "output_type": "stream",
     "text": [
      "Initialized DVC repository.\n",
      "\n",
      "+---------------------------------------------------------------------+\n",
      "|                                                                     |\n",
      "|        DVC has enabled anonymous aggregate usage analytics.         |\n",
      "|     Read the analytics documentation (and how to opt-out) here:     |\n",
      "|             <https://dvc.org/doc/user-guide/analytics>              |\n",
      "|                                                                     |\n",
      "+---------------------------------------------------------------------+\n",
      "\n",
      "What's next?\n",
      "------------\n",
      "- Check out the documentation: <https://dvc.org/doc>\n",
      "- Get help and share ideas: <https://dvc.org/chat>\n",
      "- Star us on GitHub: <https://github.com/iterative/dvc>\n",
      "Initialized empty Git repository in D:/Cmi/Applied ML/Assignment_2/.git/\n"
     ]
    }
   ],
   "source": [
    "!dvc init --no-scm --f\n",
    "!git init"
   ]
  },
  {
   "cell_type": "code",
   "execution_count": 10,
   "id": "636876b6",
   "metadata": {},
   "outputs": [
    {
     "name": "stdout",
     "output_type": "stream",
     "text": [
      "[master (root-commit) 27e0ade] Added train, test and validation data after splitting with random seed = 42\n",
      " 3 files changed, 5731 insertions(+)\n",
      " create mode 100644 test.csv\n",
      " create mode 100644 train.csv\n",
      " create mode 100644 validation.csv\n"
     ]
    }
   ],
   "source": [
    "!git add train.csv test.csv validation.csv\n",
    "!git commit -m \"Added train, test and validation data after splitting with random seed = 42\"\n"
   ]
  },
  {
   "cell_type": "markdown",
   "id": "2b552f55",
   "metadata": {},
   "source": [
    "### Splitting with random seed 150:"
   ]
  },
  {
   "cell_type": "code",
   "execution_count": 11,
   "id": "2fa3af98",
   "metadata": {},
   "outputs": [],
   "source": [
    "train, test, validation = split_dataframe(df, random_state = 100)"
   ]
  },
  {
   "cell_type": "code",
   "execution_count": 12,
   "id": "1a974608",
   "metadata": {},
   "outputs": [],
   "source": [
    "train.to_csv('train.csv', index=False)\n",
    "validation.to_csv('validation.csv', index=False)\n",
    "test.to_csv('test.csv', index=False)"
   ]
  },
  {
   "cell_type": "code",
   "execution_count": 14,
   "id": "08fec125",
   "metadata": {},
   "outputs": [
    {
     "name": "stdout",
     "output_type": "stream",
     "text": [
      "On branch master\n",
      "Untracked files:\n",
      "  (use \"git add <file>...\" to include in what will be committed)\n",
      "\t.dvc/\n",
      "\t.dvcignore\n",
      "\tAssignment_2.ipynb\n",
      "\temails.csv\n",
      "\n",
      "nothing added to commit but untracked files present (use \"git add\" to track)\n"
     ]
    }
   ],
   "source": [
    "! git add train.csv test.csv validation.csv\n",
    "! git commit -m \"Added new train, test and validation data with random seed = 150\""
   ]
  },
  {
   "cell_type": "code",
   "execution_count": 15,
   "id": "9206e879",
   "metadata": {},
   "outputs": [
    {
     "name": "stdout",
     "output_type": "stream",
     "text": [
      "9c482c5 Added new train, test and validation data with random seed = 100\n",
      "27e0ade Added train, test and validation data after splitting with random seed = 42\n"
     ]
    }
   ],
   "source": [
    "! git log --oneline "
   ]
  },
  {
   "cell_type": "markdown",
   "id": "94b336c4",
   "metadata": {},
   "source": [
    "### Distribution of target variables:"
   ]
  },
  {
   "cell_type": "markdown",
   "id": "2fc9417a",
   "metadata": {},
   "source": [
    "#### Random seed = 42:"
   ]
  },
  {
   "cell_type": "code",
   "execution_count": 16,
   "id": "a6143174",
   "metadata": {},
   "outputs": [
    {
     "name": "stderr",
     "output_type": "stream",
     "text": [
      "Note: switching to '27e0ade'.\n",
      "\n",
      "You are in 'detached HEAD' state. You can look around, make experimental\n",
      "changes and commit them, and you can discard any commits you make in this\n",
      "state without impacting any branches by switching back to a branch.\n",
      "\n",
      "If you want to create a new branch to retain commits you create, you may\n",
      "do so (now or later) by using -c with the switch command. Example:\n",
      "\n",
      "  git switch -c <new-branch-name>\n",
      "\n",
      "Or undo this operation with:\n",
      "\n",
      "  git switch -\n",
      "\n",
      "Turn off this advice by setting config variable advice.detachedHead to false\n",
      "\n",
      "HEAD is now at 27e0ade Added train, test and validation data after splitting with random seed = 42\n"
     ]
    }
   ],
   "source": [
    "! git checkout 27e0ade"
   ]
  },
  {
   "cell_type": "code",
   "execution_count": 17,
   "id": "1a07ae87",
   "metadata": {},
   "outputs": [],
   "source": [
    "train = pd.read_csv(\"train.csv\")\n",
    "test = pd.read_csv(\"test.csv\")\n",
    "validation = pd.read_csv(\"validation.csv\")"
   ]
  },
  {
   "cell_type": "code",
   "execution_count": 18,
   "id": "bcc20a57",
   "metadata": {},
   "outputs": [],
   "source": [
    "def display_spam_counts(df, name):\n",
    "    counts = df['spam'].value_counts()\n",
    "    print(f\"{name} DataFrame:\")\n",
    "    print(counts)\n",
    "    print()"
   ]
  },
  {
   "cell_type": "code",
   "execution_count": 19,
   "id": "2704f94c",
   "metadata": {},
   "outputs": [
    {
     "name": "stdout",
     "output_type": "stream",
     "text": [
      "Train DataFrame:\n",
      "spam\n",
      "0.0    3082\n",
      "1.0     927\n",
      "Name: count, dtype: int64\n",
      "\n",
      "Test DataFrame:\n",
      "spam\n",
      "0.0    645\n",
      "1.0    214\n",
      "Name: count, dtype: int64\n",
      "\n",
      "Validation DataFrame:\n",
      "spam\n",
      "0.0    633\n",
      "1.0    227\n",
      "Name: count, dtype: int64\n",
      "\n"
     ]
    }
   ],
   "source": [
    "display_spam_counts(train, 'Train')\n",
    "display_spam_counts(test, 'Test')\n",
    "display_spam_counts(validation, 'Validation')"
   ]
  },
  {
   "cell_type": "markdown",
   "id": "21cd63d4",
   "metadata": {},
   "source": [
    "#### Random seed = 100:"
   ]
  },
  {
   "cell_type": "code",
   "execution_count": 20,
   "id": "b9874f40",
   "metadata": {},
   "outputs": [
    {
     "name": "stderr",
     "output_type": "stream",
     "text": [
      "Previous HEAD position was 27e0ade Added train, test and validation data after splitting with random seed = 42\n",
      "HEAD is now at 9c482c5 Added new train, test and validation data with random seed = 100\n"
     ]
    }
   ],
   "source": [
    "! git checkout 9c482c5"
   ]
  },
  {
   "cell_type": "code",
   "execution_count": 21,
   "id": "d9d0cb96",
   "metadata": {},
   "outputs": [],
   "source": [
    "t = pd.read_csv(\"train.csv\")\n",
    "te = pd.read_csv(\"test.csv\")\n",
    "va = pd.read_csv(\"validation.csv\")"
   ]
  },
  {
   "cell_type": "code",
   "execution_count": 22,
   "id": "47efe725",
   "metadata": {},
   "outputs": [
    {
     "name": "stdout",
     "output_type": "stream",
     "text": [
      "Train DataFrame:\n",
      "spam\n",
      "0.0    3029\n",
      "1.0     980\n",
      "Name: count, dtype: int64\n",
      "\n",
      "Test DataFrame:\n",
      "spam\n",
      "0.0    665\n",
      "1.0    194\n",
      "Name: count, dtype: int64\n",
      "\n",
      "Validation DataFrame:\n",
      "spam\n",
      "0.0    666\n",
      "1.0    194\n",
      "Name: count, dtype: int64\n",
      "\n"
     ]
    }
   ],
   "source": [
    "display_spam_counts(t, 'Train')\n",
    "display_spam_counts(te, 'Test')\n",
    "display_spam_counts(va, 'Validation')"
   ]
  },
  {
   "cell_type": "code",
   "execution_count": null,
   "id": "a2a095bd",
   "metadata": {},
   "outputs": [],
   "source": []
  }
 ],
 "metadata": {
  "kernelspec": {
   "display_name": "Python 3 (ipykernel)",
   "language": "python",
   "name": "python3"
  },
  "language_info": {
   "codemirror_mode": {
    "name": "ipython",
    "version": 3
   },
   "file_extension": ".py",
   "mimetype": "text/x-python",
   "name": "python",
   "nbconvert_exporter": "python",
   "pygments_lexer": "ipython3",
   "version": "3.9.12"
  }
 },
 "nbformat": 4,
 "nbformat_minor": 5
}
